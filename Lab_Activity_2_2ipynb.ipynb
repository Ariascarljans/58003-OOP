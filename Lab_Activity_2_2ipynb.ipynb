{
  "cells": [
    {
      "cell_type": "markdown",
      "metadata": {
        "id": "view-in-github",
        "colab_type": "text"
      },
      "source": [
        "<a href=\"https://colab.research.google.com/github/Ariascarljans/58003-OOP/blob/main/Lab_Activity_2_2ipynb.ipynb\" target=\"_parent\"><img src=\"https://colab.research.google.com/assets/colab-badge.svg\" alt=\"Open In Colab\"/></a>"
      ]
    },
    {
      "cell_type": "code",
      "source": [
        "class Circle(): #class name Circle allowing to build a circle with radius and pi attributes.\n",
        "  def __init__ (self, radius):\n",
        "    self.radius = float (radius)\n",
        "  \n",
        "  def Area(self):  #an Area() method to calculate the area of ​​the circle.\n",
        "    return pi * (self.radius ** 2)\n",
        "\n",
        "  def Perimeter(self):  #a Perimeter() method to calculate the perimeter of the circle.\n",
        "    return 2 * pi * self.radius\n",
        "\n",
        "  def display(self):  #to Display() the perimeter and area using an instantiation of a class.\n",
        "    print(\"The Wheel's area is\", self.Area())\n",
        "    print(\"The Wheel's perimeter is\", self.Perimeter())\n",
        "\n",
        "pi = 3.14\n",
        "Wheel = Circle(input()) #The program asks the user to input the radius of the circle.\n",
        "Wheel.display()"
      ],
      "metadata": {
        "colab": {
          "base_uri": "https://localhost:8080/"
        },
        "id": "syIbZqiF96Vi",
        "outputId": "c5feb9d6-cf82-42c1-c4e2-42a209b9bb19"
      },
      "execution_count": 21,
      "outputs": [
        {
          "output_type": "stream",
          "name": "stdout",
          "text": [
            "15\n",
            "The Wheel's area is 706.5\n",
            "The Wheel's perimeter is 94.2\n"
          ]
        }
      ]
    }
  ],
  "metadata": {
    "colab": {
      "provenance": [],
      "authorship_tag": "ABX9TyNRuiGwjwJDU8ZbtIWCLpQf",
      "include_colab_link": true
    },
    "kernelspec": {
      "display_name": "Python 3",
      "name": "python3"
    },
    "language_info": {
      "name": "python"
    }
  },
  "nbformat": 4,
  "nbformat_minor": 0
}