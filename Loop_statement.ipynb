{
  "nbformat": 4,
  "nbformat_minor": 0,
  "metadata": {
    "colab": {
      "provenance": [],
      "authorship_tag": "ABX9TyNdz8ccipvBicK3lAqG4GpC",
      "include_colab_link": true
    },
    "kernelspec": {
      "name": "python3",
      "display_name": "Python 3"
    },
    "language_info": {
      "name": "python"
    }
  },
  "cells": [
    {
      "cell_type": "markdown",
      "metadata": {
        "id": "view-in-github",
        "colab_type": "text"
      },
      "source": [
        "<a href=\"https://colab.research.google.com/github/Ariascarljans/58003-OOP/blob/main/Loop_statement.ipynb\" target=\"_parent\"><img src=\"https://colab.research.google.com/assets/colab-badge.svg\" alt=\"Open In Colab\"/></a>"
      ]
    },
    {
      "cell_type": "markdown",
      "source": [
        "For Loop"
      ],
      "metadata": {
        "id": "j4yWdtaxiIz8"
      }
    },
    {
      "cell_type": "code",
      "source": [
        "Week = [\"Sunday\", \"Monday\", \"Tuesday\",\"Wednesday\",\"Thursday\",\"Friday\",\"Saturday\"]\n",
        "for x in Week:\n",
        "  print(x)\n",
        "  "
      ],
      "metadata": {
        "colab": {
          "base_uri": "https://localhost:8080/"
        },
        "id": "4kZFNuaoiXnc",
        "outputId": "7efb3336-1687-4b97-96e9-44b877d0e2dd"
      },
      "execution_count": 9,
      "outputs": [
        {
          "output_type": "stream",
          "name": "stdout",
          "text": [
            "Sunday\n",
            "Monday\n",
            "Tuesday\n",
            "Wednesday\n",
            "Thursday\n",
            "Friday\n",
            "Saturday\n"
          ]
        }
      ]
    },
    {
      "cell_type": "markdown",
      "source": [
        "Nested for loop"
      ],
      "metadata": {
        "id": "BU64ISwBi8j8"
      }
    },
    {
      "cell_type": "code",
      "source": [
        "adjective = [\"Big\",\"Tasty\",\"Juicy\"]\n",
        "fruits = [\"Banana\",\"Apple\",\"Cherry\"]\n",
        "for x in adjective:\n",
        "  for y in fruits: \n",
        "     print(x,y)"
      ],
      "metadata": {
        "colab": {
          "base_uri": "https://localhost:8080/"
        },
        "id": "7FCXYVXljjHF",
        "outputId": "c4dd4cfb-97c1-4efb-8956-74f65e6d0732"
      },
      "execution_count": 14,
      "outputs": [
        {
          "output_type": "stream",
          "name": "stdout",
          "text": [
            "Big Banana\n",
            "Big Apple\n",
            "Big Cherry\n",
            "Tasty Banana\n",
            "Tasty Apple\n",
            "Tasty Cherry\n",
            "Juicy Banana\n",
            "Juicy Apple\n",
            "Juicy Cherry\n"
          ]
        }
      ]
    },
    {
      "cell_type": "markdown",
      "source": [
        "Break statement in for loop"
      ],
      "metadata": {
        "id": "0w_nr_8OkbJ0"
      }
    },
    {
      "cell_type": "code",
      "source": [
        "Week =  [\"Sunday\", \"Monday\",\"Tuesday\",\"Wednesday\",\"Thursday\",\"Friday\",\"Saturday\"]\n",
        "for x in Week:\n",
        "  if x== \"Thursday\":\n",
        "     break\n",
        "  print(x)"
      ],
      "metadata": {
        "colab": {
          "base_uri": "https://localhost:8080/"
        },
        "id": "rfnGkVguke_T",
        "outputId": "a4153d5c-311b-438f-a82a-5f6fc281e8de"
      },
      "execution_count": 18,
      "outputs": [
        {
          "output_type": "stream",
          "name": "stdout",
          "text": [
            "Sunday\n",
            "Monday\n",
            "Tuesday\n",
            "Wednesday\n"
          ]
        }
      ]
    },
    {
      "cell_type": "markdown",
      "source": [
        "Print only thursday using break statemnt for *loop*"
      ],
      "metadata": {
        "id": "tx0cNOcUlKaf"
      }
    },
    {
      "cell_type": "code",
      "source": [
        "Week =  [\"Sunday\", \"Monday\", \"Tuesday\",\"Wednesday\",\"Thursday\",\"Friday\",\"Saturday\"]\n",
        "for x in Week:\n",
        "  if x==\"Thursday\":  \n",
        "    print (x)\n",
        "    break"
      ],
      "metadata": {
        "colab": {
          "base_uri": "https://localhost:8080/"
        },
        "id": "Xmj5vmOilQF2",
        "outputId": "7a5a4daf-9931-4bcb-cabd-b98147556eec"
      },
      "execution_count": 29,
      "outputs": [
        {
          "output_type": "stream",
          "name": "stdout",
          "text": [
            "Thursday\n"
          ]
        }
      ]
    },
    {
      "cell_type": "code",
      "source": [
        "for x in \"Philippines\":\n",
        "    print(x)"
      ],
      "metadata": {
        "colab": {
          "base_uri": "https://localhost:8080/"
        },
        "id": "87SkP2FvmvJH",
        "outputId": "2aedb48f-6684-442a-9082-9c1f984ebe0d"
      },
      "execution_count": 30,
      "outputs": [
        {
          "output_type": "stream",
          "name": "stdout",
          "text": [
            "P\n",
            "h\n",
            "i\n",
            "l\n",
            "i\n",
            "p\n",
            "p\n",
            "i\n",
            "n\n",
            "e\n",
            "s\n"
          ]
        }
      ]
    },
    {
      "cell_type": "markdown",
      "source": [
        "While loop\n"
      ],
      "metadata": {
        "id": "ojoiCFVUm4O3"
      }
    },
    {
      "cell_type": "code",
      "source": [
        "i = 1\n",
        "while i<=6:\n",
        "  print(i)\n",
        "  i+=1"
      ],
      "metadata": {
        "colab": {
          "base_uri": "https://localhost:8080/"
        },
        "id": "UPLL7ng-nNcY",
        "outputId": "5e7ba5c2-ae78-48d1-96a5-db9f0b541879"
      },
      "execution_count": 32,
      "outputs": [
        {
          "output_type": "stream",
          "name": "stdout",
          "text": [
            "1\n",
            "2\n",
            "3\n",
            "4\n",
            "5\n",
            "6\n"
          ]
        }
      ]
    },
    {
      "cell_type": "markdown",
      "source": [
        "While loop using break statement"
      ],
      "metadata": {
        "id": "fZ-VKVxUnaX9"
      }
    },
    {
      "cell_type": "code",
      "source": [
        "i = 1\n",
        "while i<=6:\n",
        "  if i == 4: #only display only 4 \n",
        "    print(i)\n",
        "    break\n",
        "  i+=1\n",
        "  \n",
        "  "
      ],
      "metadata": {
        "colab": {
          "base_uri": "https://localhost:8080/"
        },
        "id": "1mtOUXRanYgt",
        "outputId": "a0f36d16-6b51-4525-864c-c873ee6af6fe"
      },
      "execution_count": 45,
      "outputs": [
        {
          "output_type": "stream",
          "name": "stdout",
          "text": [
            "4\n"
          ]
        }
      ]
    },
    {
      "cell_type": "markdown",
      "source": [
        "Application 1\n"
      ],
      "metadata": {
        "id": "dox2qJChqUW9"
      }
    },
    {
      "cell_type": "code",
      "source": [
        "i = 0\n",
        "while i<=10:\n",
        "  print(\"Hello\", i)\n",
        "  i+=1"
      ],
      "metadata": {
        "colab": {
          "base_uri": "https://localhost:8080/"
        },
        "id": "ojfc3iuaqETF",
        "outputId": "85a2a76a-f234-43df-9c8e-5d2b28047998"
      },
      "execution_count": 58,
      "outputs": [
        {
          "output_type": "stream",
          "name": "stdout",
          "text": [
            "Hello 0\n",
            "Hello 1\n",
            "Hello 2\n",
            "Hello 3\n",
            "Hello 4\n",
            "Hello 5\n",
            "Hello 6\n",
            "Hello 7\n",
            "Hello 8\n",
            "Hello 9\n",
            "Hello 10\n"
          ]
        }
      ]
    },
    {
      "cell_type": "markdown",
      "source": [
        "Application 2"
      ],
      "metadata": {
        "id": "Aj74DE2trC1O"
      }
    },
    {
      "cell_type": "code",
      "source": [
        "i = 3\n",
        "while i<=10:\n",
        "  if i>=10:\n",
        "    break\n",
        "  print(i)\n",
        "  i+=1"
      ],
      "metadata": {
        "colab": {
          "base_uri": "https://localhost:8080/"
        },
        "id": "ttHOHsssrGi8",
        "outputId": "6ae002de-4649-4654-97c6-4bc653a02d36"
      },
      "execution_count": 86,
      "outputs": [
        {
          "output_type": "stream",
          "name": "stdout",
          "text": [
            "3\n",
            "4\n",
            "5\n",
            "6\n",
            "7\n",
            "8\n",
            "9\n"
          ]
        }
      ]
    }
  ]
}