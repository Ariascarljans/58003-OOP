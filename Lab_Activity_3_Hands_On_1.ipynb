{
  "nbformat": 4,
  "nbformat_minor": 0,
  "metadata": {
    "colab": {
      "provenance": [],
      "authorship_tag": "ABX9TyPM/KntwqeOY0lECFcVsPc3",
      "include_colab_link": true
    },
    "kernelspec": {
      "name": "python3",
      "display_name": "Python 3"
    },
    "language_info": {
      "name": "python"
    }
  },
  "cells": [
    {
      "cell_type": "markdown",
      "metadata": {
        "id": "view-in-github",
        "colab_type": "text"
      },
      "source": [
        "<a href=\"https://colab.research.google.com/github/Ariascarljans/58003-OOP/blob/main/Lab_Activity_3_Hands_On_1.ipynb\" target=\"_parent\"><img src=\"https://colab.research.google.com/assets/colab-badge.svg\" alt=\"Open In Colab\"/></a>"
      ]
    },
    {
      "cell_type": "code",
      "execution_count": 15,
      "metadata": {
        "colab": {
          "base_uri": "https://localhost:8080/"
        },
        "id": "cW2tfVkrPvK8",
        "outputId": "43417dc3-8164-4898-b3a7-cec17c78b37a"
      },
      "outputs": [
        {
          "output_type": "stream",
          "name": "stdout",
          "text": [
            "Student term grades:\n",
            "\n",
            "student 1\n",
            " prelims : 95\n",
            " Midterms: 99\n",
            " Finals :  99\n",
            "student 2\n",
            " prelims : 98\n",
            " Midterms: 89\n",
            " Finals :  80\n",
            "student 3\n",
            " prelims : 80\n",
            " Midterms: 79\n",
            " Finals :  95\n",
            "\n",
            "Average term grades:\n",
            "Student 1 average term grade is 97.67 ,\n",
            "Student 2 average term grade is 89 ,\n",
            "Student 3 average term grade is 84.67 ,\n"
          ]
        }
      ],
      "source": [
        "\n",
        "class Person:\n",
        "  def __init__(self, std, pre, mid, fin):\n",
        "    self.std = std\n",
        "    self.pre = pre\n",
        "    self.mid = mid\n",
        "    self.fin = fin\n",
        "\n",
        "  def term_grades(self):\n",
        "    print(f\"{self.std}\")\n",
        "    print(f\" prelims : {self.pre}\")\n",
        "    print(f\" Midterms: {self.mid}\")\n",
        "    print(f\" Finals :  {self.fin}\")\n",
        "\n",
        "class Grades(Person):\n",
        "   pass\n",
        "print(\"Student term grades:\\n\")\n",
        "\n",
        "std1 = Grades(\"student 1\",95, 99, 99)\n",
        "std1.term_grades()\n",
        "std2 = Grades(\"student 2\",98, 89, 80)\n",
        "std2.term_grades()\n",
        "std3 = Grades(\"student 3\",80, 79, 95)\n",
        "std3.term_grades()\n",
        "\n",
        "print(\"\\nAverage term grades:\")\n",
        "import statistics\n",
        "std1 =(95, 99, 99)\n",
        "average = statistics.mean(std1)\n",
        "print(\"Student 1 average term grade is \" + str(round(average, 2)), \",\")\n",
        "\n",
        "std2 =(98, 89, 80)\n",
        "average = statistics.mean(std2)\n",
        "print(\"Student 2 average term grade is \" + str(round(average, 2)), \",\")\n",
        "\n",
        "std3 =(80, 79, 95)\n",
        "average = statistics.mean(std3)\n",
        "print(\"Student 3 average term grade is \" + str(round(average, 2)), \",\")"
      ]
    }
  ]
}