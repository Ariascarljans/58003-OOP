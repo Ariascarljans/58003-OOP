{
  "nbformat": 4,
  "nbformat_minor": 0,
  "metadata": {
    "colab": {
      "provenance": [],
      "authorship_tag": "ABX9TyOuOLaaBG6iaZZ0EAztFu7o",
      "include_colab_link": true
    },
    "kernelspec": {
      "name": "python3",
      "display_name": "Python 3"
    },
    "language_info": {
      "name": "python"
    }
  },
  "cells": [
    {
      "cell_type": "markdown",
      "metadata": {
        "id": "view-in-github",
        "colab_type": "text"
      },
      "source": [
        "<a href=\"https://colab.research.google.com/github/Ariascarljans/58003-OOP/blob/main/Encapsulation_and_inheritance.ipynb\" target=\"_parent\"><img src=\"https://colab.research.google.com/assets/colab-badge.svg\" alt=\"Open In Colab\"/></a>"
      ]
    },
    {
      "cell_type": "code",
      "execution_count": 2,
      "metadata": {
        "colab": {
          "base_uri": "https://localhost:8080/"
        },
        "id": "KBhOnxbCVrR4",
        "outputId": "d0e50989-01c7-4fb6-8c6f-b8da0f3a2e71"
      },
      "outputs": [
        {
          "output_type": "execute_result",
          "data": {
            "text/plain": [
              "7"
            ]
          },
          "metadata": {},
          "execution_count": 2
        }
      ],
      "source": [
        "class foo: \n",
        "  def                               __init__(self, a, b):\n",
        "    self.a = a\n",
        "    self.b = b\n",
        "  def add(self):\n",
        "    return self.a+self.b\n",
        "foo_object = foo(3,4)\n",
        "foo_object.add()"
      ]
    },
    {
      "cell_type": "code",
      "source": [
        "class Counter:\n",
        "  def __init__(self,current):\n",
        "    self.current = 0\n",
        "  def increment(self):\n",
        "    self.current +=1\n",
        "  def value(self):\n",
        "    return self.current\n",
        "  def reset(self):\n",
        "    self.current = 0\n",
        "\n",
        "  def display_counter(self):\n",
        "    print(\"The increment value is:\" ,self.increment())\n",
        "    print(\"The current value is \",self.value())\n",
        "    print(\"Reset value is: \", self.reset())\n",
        "\n",
        "counter1 = Counter(0)\n",
        "counter1.display_counter()"
      ],
      "metadata": {
        "colab": {
          "base_uri": "https://localhost:8080/"
        },
        "id": "FN1fKZgJaNI1",
        "outputId": "c8c0bbfb-e006-4b6d-dbbf-bd05959ba5df"
      },
      "execution_count": 17,
      "outputs": [
        {
          "output_type": "stream",
          "name": "stdout",
          "text": [
            "The increment value is: None\n",
            "The current value is  1\n",
            "Reset value is:  None\n"
          ]
        }
      ]
    },
    {
      "cell_type": "code",
      "source": [
        "class Person:\n",
        "  def __init__(self,name,birthdate):\n",
        "    self.name = name\n",
        "    self.birthdate = birthdate\n",
        "\n",
        "  def display_identity(self):\n",
        "     print(\"My name is self\",self.name)\n",
        "     print(\"My birthday is\" ,self.birthdate)\n",
        "\n",
        "class Teacher(Person):\n",
        "  pass\n",
        "\n",
        "\n",
        "class Student(Person):\n",
        "  pass  \n",
        "  \n",
        "\n",
        "teacher = Teacher(\"Tito brando\", \"August 26, 2001\")\n",
        "student = Person(\"Pandong\", \"August 28, 2001\")\n",
        "\n",
        "teacher.display_identity()\n",
        "student.display_identity()\n",
        "  \n",
        "   "
      ],
      "metadata": {
        "colab": {
          "base_uri": "https://localhost:8080/"
        },
        "id": "HRqFW4Swf4Td",
        "outputId": "8b1a4950-57fb-4d52-e3be-f0436c693831"
      },
      "execution_count": 28,
      "outputs": [
        {
          "output_type": "stream",
          "name": "stdout",
          "text": [
            "My name is self Tito brando\n",
            "My birthday is August 26, 2001\n",
            "My name is self Pandong\n",
            "My birthday is August 28, 2001\n"
          ]
        }
      ]
    },
    {
      "cell_type": "code",
      "source": [
        "#choose 5 example of shapes (e.g. triangle, square, rectangle)\n",
        "#class name is Shape\n",
        "#sides as attribute\n",
        "#display()method to show the number of sides \n",
        "#Apply encapsulation by mangling(double underscore)\n",
        "#inherit the properties of each shape from the parent class shape\n",
        "#Inheritance\n",
        "\n",
        "\n",
        "class Shape:\n",
        "  def __init__(self,side):\n",
        "    self.side = side \n",
        "  def display_sides(self):\n",
        "    print(self.side,\"Number is the number of this shape\")\n",
        "\n",
        "class Pentagon(Shape):\n",
        "  pass\n",
        "class Hexagon(Shape):\n",
        "  pass\n",
        "class Heptagon(Shape):\n",
        "  pass\n",
        "class Triangle(Shape):\n",
        "  pass \n",
        "class Octagon(Shape):\n",
        "  pass\n",
        "\n",
        "pentagon = Pentagon(4)\n",
        "hexagon = Hexagon(6)\n",
        "heptagon = Heptagon(9)\n",
        "triangle = Triangle(2)\n",
        "octagon = Octagon(7)\n",
        "\n",
        "pentagon.display_sides()\n",
        "hexagon.display_sides()\n",
        "heptagon.display_sides()\n",
        "triangle.display_sides()\n",
        "octagon.display_sides()\n"
      ],
      "metadata": {
        "colab": {
          "base_uri": "https://localhost:8080/"
        },
        "id": "V2R2NMKligG6",
        "outputId": "209b0307-c69a-495b-a4bd-078dbd7cb2dd"
      },
      "execution_count": 50,
      "outputs": [
        {
          "output_type": "stream",
          "name": "stdout",
          "text": [
            "4 Number is the number of this shape\n",
            "6 Number is the number of this shape\n",
            "9 Number is the number of this shape\n",
            "2 Number is the number of this shape\n",
            "7 Number is the number of this shape\n"
          ]
        }
      ]
    }
  ]
}