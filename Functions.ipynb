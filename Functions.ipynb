{
  "nbformat": 4,
  "nbformat_minor": 0,
  "metadata": {
    "colab": {
      "provenance": [],
      "authorship_tag": "ABX9TyPI+J8wWBpS9/5rP/P6x0lw",
      "include_colab_link": true
    },
    "kernelspec": {
      "name": "python3",
      "display_name": "Python 3"
    },
    "language_info": {
      "name": "python"
    }
  },
  "cells": [
    {
      "cell_type": "markdown",
      "metadata": {
        "id": "view-in-github",
        "colab_type": "text"
      },
      "source": [
        "<a href=\"https://colab.research.google.com/github/Ariascarljans/58003-OOP/blob/main/Functions.ipynb\" target=\"_parent\"><img src=\"https://colab.research.google.com/assets/colab-badge.svg\" alt=\"Open In Colab\"/></a>"
      ]
    },
    {
      "cell_type": "markdown",
      "source": [
        "Functions"
      ],
      "metadata": {
        "id": "FZTEnnTXAloo"
      }
    },
    {
      "cell_type": "code",
      "source": [
        "fruits = ['abc', 1,3,1]\n",
        "\n",
        "print(fruits)\n",
        "fruits.insert(2,2)\n",
        "print(fruits)"
      ],
      "metadata": {
        "colab": {
          "base_uri": "https://localhost:8080/"
        },
        "id": "hBYWH_zVBQ4Q",
        "outputId": "7dbe5f41-eea0-4bd8-aafd-a172f542b979"
      },
      "execution_count": 3,
      "outputs": [
        {
          "output_type": "stream",
          "name": "stdout",
          "text": [
            "['abc', 1, 3, 1]\n",
            "['abc', 1, 2, 3, 1]\n"
          ]
        }
      ]
    },
    {
      "cell_type": "code",
      "source": [
        "class Persons:\n",
        "  def __init__(self,name,age):\n",
        "   self.name = name\n",
        "   self.age = age\n",
        "\n",
        "student = Persons(\"ana\", 20)\n",
        "teacher = Persons(\"Maam Sayo\", 40)\n",
        "print(student.name)\n",
        "print(student.age)\n",
        "\n",
        "print(teacher.name)\n",
        "print(teacher.age)\n"
      ],
      "metadata": {
        "colab": {
          "base_uri": "https://localhost:8080/"
        },
        "id": "tiUhtmVhCLI4",
        "outputId": "7c56bc7a-8373-4cf3-a3ca-3a43312a3416"
      },
      "execution_count": 9,
      "outputs": [
        {
          "output_type": "stream",
          "name": "stdout",
          "text": [
            "ana\n",
            "20\n",
            "Maam Sayo\n",
            "40\n"
          ]
        }
      ]
    },
    {
      "cell_type": "code",
      "source": [
        "class Shapes:\n",
        "  def __init__(self,length,width):\n",
        "  self.length = length\n",
        "  self.width = width\n",
        "def area(self):\n",
        "  return self.length*self.width \n",
        "\n",
        "rectangle = Shapes(5,5)\n",
        "rectangle.area()\n"
      ],
      "metadata": {
        "colab": {
          "base_uri": "https://localhost:8080/",
          "height": 130
        },
        "id": "qK0oahQbEAOe",
        "outputId": "04cc6adf-ca6c-4ae4-f6da-59e1c981dda3"
      },
      "execution_count": 37,
      "outputs": [
        {
          "output_type": "error",
          "ename": "IndentationError",
          "evalue": "ignored",
          "traceback": [
            "\u001b[0;36m  File \u001b[0;32m\"<ipython-input-37-45fbf9ab931e>\"\u001b[0;36m, line \u001b[0;32m3\u001b[0m\n\u001b[0;31m    self.length = length\u001b[0m\n\u001b[0m    ^\u001b[0m\n\u001b[0;31mIndentationError\u001b[0m\u001b[0;31m:\u001b[0m expected an indented block\n"
          ]
        }
      ]
    },
    {
      "cell_type": "markdown",
      "source": [
        "Lists"
      ],
      "metadata": {
        "id": "couuGIPwJD4E"
      }
    },
    {
      "cell_type": "code",
      "source": [
        "pi = 3.1416\n",
        "varlist = [ 1,2,'abc',\"hello\",pi]\n",
        "print(varlist[0])\n",
        "print(varlist[4])"
      ],
      "metadata": {
        "colab": {
          "base_uri": "https://localhost:8080/"
        },
        "id": "MTi9BKkVIjlU",
        "outputId": "4d2222e0-3ece-41ea-b4d5-3e06705428b8"
      },
      "execution_count": 38,
      "outputs": [
        {
          "output_type": "stream",
          "name": "stdout",
          "text": [
            "1\n",
            "3.1416\n"
          ]
        }
      ]
    },
    {
      "cell_type": "code",
      "source": [
        "varlist.append(5)\n",
        "print(varlist)"
      ],
      "metadata": {
        "colab": {
          "base_uri": "https://localhost:8080/"
        },
        "id": "u1Ks1EoLHKYs",
        "outputId": "72154d82-8c00-43e9-8268-6a4c52c3f4e8"
      },
      "execution_count": 39,
      "outputs": [
        {
          "output_type": "stream",
          "name": "stdout",
          "text": [
            "[1, 2, 'abc', 'hello', 3.1416, 5]\n"
          ]
        }
      ]
    },
    {
      "cell_type": "code",
      "source": [
        "varlist.remove(pi)\n",
        "print(varlist)"
      ],
      "metadata": {
        "colab": {
          "base_uri": "https://localhost:8080/"
        },
        "id": "u9zDEMV-J7DD",
        "outputId": "eadf1610-023b-44b1-aa5b-876fc5049324"
      },
      "execution_count": 40,
      "outputs": [
        {
          "output_type": "stream",
          "name": "stdout",
          "text": [
            "[1, 2, 'abc', 'hello', 5]\n"
          ]
        }
      ]
    },
    {
      "cell_type": "markdown",
      "source": [
        "Dictionaries"
      ],
      "metadata": {
        "id": "59RikoTtKSK0"
      }
    },
    {
      "cell_type": "code",
      "source": [
        "var = \"hello world\"\n",
        "varDict = {'first' : 123, \n",
        "           2 :'abc',\n",
        "           '3': var, \n",
        "           4 : ['lista', 'listb'],\n",
        "           2: 'def' ,\n",
        "           2: 'ghi'\n",
        "\n",
        "           }\n",
        "print(varDict)"
      ],
      "metadata": {
        "colab": {
          "base_uri": "https://localhost:8080/"
        },
        "id": "2_diY6wmKEyk",
        "outputId": "eab4c233-0933-4353-aebe-0b290e49a963"
      },
      "execution_count": 46,
      "outputs": [
        {
          "output_type": "stream",
          "name": "stdout",
          "text": [
            "{'first': 123, 2: 'ghi', '3': 'hello world', 4: ['lista', 'listb']}\n"
          ]
        }
      ]
    },
    {
      "cell_type": "markdown",
      "source": [
        "slicing"
      ],
      "metadata": {
        "id": "TaIY6Vu0NRSR"
      }
    },
    {
      "cell_type": "code",
      "source": [
        "varlist = [1,2,3,4,5,6,7,8,9,10]\n",
        "print(varlist[:5])"
      ],
      "metadata": {
        "colab": {
          "base_uri": "https://localhost:8080/"
        },
        "id": "4hLZRq7ANHFK",
        "outputId": "65975c54-1256-427c-91b9-0bb555e7d103"
      },
      "execution_count": 47,
      "outputs": [
        {
          "output_type": "stream",
          "name": "stdout",
          "text": [
            "[1, 2, 3, 4, 5]\n"
          ]
        }
      ]
    },
    {
      "cell_type": "code",
      "source": [
        "varlist = [1,2,3,4,5,6,7,8,9,10]\n",
        "\n",
        "print(varlist[:2])"
      ],
      "metadata": {
        "colab": {
          "base_uri": "https://localhost:8080/"
        },
        "id": "AT0KJc-1OoYg",
        "outputId": "71e64146-95d3-4722-fcaa-6acf81aa925e"
      },
      "execution_count": 50,
      "outputs": [
        {
          "output_type": "stream",
          "name": "stdout",
          "text": [
            "[1, 2]\n"
          ]
        }
      ]
    },
    {
      "cell_type": "code",
      "source": [],
      "metadata": {
        "id": "Lt1syTWhPsEx"
      },
      "execution_count": null,
      "outputs": []
    }
  ]
}