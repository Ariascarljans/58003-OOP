{
  "nbformat": 4,
  "nbformat_minor": 0,
  "metadata": {
    "colab": {
      "provenance": [],
      "toc_visible": true,
      "authorship_tag": "ABX9TyN1cgPsvTcwyLm+ysQIR2rO",
      "include_colab_link": true
    },
    "kernelspec": {
      "name": "python3",
      "display_name": "Python 3"
    },
    "language_info": {
      "name": "python"
    }
  },
  "cells": [
    {
      "cell_type": "markdown",
      "metadata": {
        "id": "view-in-github",
        "colab_type": "text"
      },
      "source": [
        "<a href=\"https://colab.research.google.com/github/Ariascarljans/58003-OOP/blob/main/Phython_fundamentALS.ipynb\" target=\"_parent\"><img src=\"https://colab.research.google.com/assets/colab-badge.svg\" alt=\"Open In Colab\"/></a>"
      ]
    },
    {
      "cell_type": "markdown",
      "source": [
        "Introduction to phython fundamentals "
      ],
      "metadata": {
        "id": "Dq1YTnUEFbm6"
      }
    },
    {
      "cell_type": "code",
      "source": [
        "#output variable\n",
        "x = \"AriasCarl\"\n",
        "print(x)\n",
        "x = \"enjoying\"\n",
        "print(\"phython programming is\" + x)"
      ],
      "metadata": {
        "colab": {
          "base_uri": "https://localhost:8080/"
        },
        "id": "PGfT02dROZ_i",
        "outputId": "4b2c9747-cda8-4987-9876-f082bee66e19"
      },
      "execution_count": null,
      "outputs": [
        {
          "output_type": "stream",
          "name": "stdout",
          "text": [
            "AriasCarl\n",
            "phython programming isenjoying\n"
          ]
        }
      ]
    },
    {
      "cell_type": "code",
      "execution_count": null,
      "metadata": {
        "colab": {
          "base_uri": "https://localhost:8080/"
        },
        "id": "NBkbunHPE7Dm",
        "outputId": "f727fb84-bfbf-410a-9433-4e6db81fe279"
      },
      "outputs": [
        {
          "output_type": "stream",
          "name": "stdout",
          "text": [
            "5 is greater than 2\n"
          ]
        }
      ],
      "source": [
        "#python indentation \n",
        "if 5>2: \n",
        " print(\"5 is greater than 2\")  \n",
        "  "
      ]
    },
    {
      "cell_type": "code",
      "source": [
        "#declaration of variable\n",
        "x= 5\n",
        "y= 2\n",
        "\n",
        "if x>y:\n",
        "  print(\"5 is greater than 2\")\n",
        "elif x<y:\n",
        "  print(\"2 is greater than 5\")\n",
        "else:\n",
        "  print (\"5 and 2 are eqaul\")    "
      ],
      "metadata": {
        "colab": {
          "base_uri": "https://localhost:8080/"
        },
        "id": "kQYpsqp_HWYx",
        "outputId": "1041491b-55c6-4dd3-c828-06c0d46027fa"
      },
      "execution_count": null,
      "outputs": [
        {
          "output_type": "stream",
          "name": "stdout",
          "text": [
            "5 is greater than 2\n"
          ]
        }
      ]
    },
    {
      "cell_type": "code",
      "source": [
        "#python variable \n",
        "\n",
        "a, b=0, -1\n",
        "print (a)\n",
        "print (b)"
      ],
      "metadata": {
        "colab": {
          "base_uri": "https://localhost:8080/"
        },
        "id": "DqU_zdmEKHYm",
        "outputId": "8375ee9b-d94f-4bf1-9913-292c8ef881e0"
      },
      "execution_count": null,
      "outputs": [
        {
          "output_type": "stream",
          "name": "stdout",
          "text": [
            "0\n",
            "-1\n"
          ]
        }
      ]
    },
    {
      "cell_type": "code",
      "source": [
        "#phyton variable with multiple values\n",
        "a,b,c=0,-1,-2\n",
        "print(a)\n",
        "print(b)\n",
        "print(c)\n"
      ],
      "metadata": {
        "colab": {
          "base_uri": "https://localhost:8080/"
        },
        "id": "MEGt-A8aLaAQ",
        "outputId": "286a825c-f8f5-4c2e-bfc5-b7c4e64b4615"
      },
      "execution_count": null,
      "outputs": [
        {
          "output_type": "stream",
          "name": "stdout",
          "text": [
            "0\n",
            "-1\n",
            "-2\n"
          ]
        }
      ]
    },
    {
      "cell_type": "code",
      "source": [
        "a = 1\n",
        "b = 2\n",
        "c =3\n",
        "print(a)"
      ],
      "metadata": {
        "colab": {
          "base_uri": "https://localhost:8080/"
        },
        "id": "dfpjjQXeL-eQ",
        "outputId": "0882e45b-cd0b-4483-ba37-2733f782cc59"
      },
      "execution_count": null,
      "outputs": [
        {
          "output_type": "stream",
          "name": "stdout",
          "text": [
            "1\n"
          ]
        }
      ]
    },
    {
      "cell_type": "code",
      "source": [
        "#single variable with multiple values\n",
        "a = b = c =4.5\n",
        "print(a)\n",
        "print(b)\n",
        "print(c)"
      ],
      "metadata": {
        "colab": {
          "base_uri": "https://localhost:8080/"
        },
        "id": "zH3J_37gMJmQ",
        "outputId": "e7004dda-0761-4c9b-aa8f-5e923265e517"
      },
      "execution_count": null,
      "outputs": [
        {
          "output_type": "stream",
          "name": "stdout",
          "text": [
            "4.5\n",
            "4.5\n",
            "4.5\n"
          ]
        }
      ]
    },
    {
      "cell_type": "code",
      "source": [
        "print(type(a))"
      ],
      "metadata": {
        "colab": {
          "base_uri": "https://localhost:8080/"
        },
        "id": "eK20lLvJMnvP",
        "outputId": "8ff56ce5-bac5-473e-aa95-c2263fd0b72a"
      },
      "execution_count": null,
      "outputs": [
        {
          "output_type": "stream",
          "name": "stdout",
          "text": [
            "<class 'float'>\n"
          ]
        }
      ]
    },
    {
      "cell_type": "markdown",
      "source": [
        "casting"
      ],
      "metadata": {
        "id": "4u2VH9WvcriA"
      }
    },
    {
      "cell_type": "code",
      "source": [
        "a = \"Sally\"\n",
        "b = int(4)\n",
        "print(b)\n",
        "b = float(4)\n",
        "print(b)\n",
        "print(a)"
      ],
      "metadata": {
        "colab": {
          "base_uri": "https://localhost:8080/"
        },
        "id": "0d1LRZrWcvOR",
        "outputId": "753261f4-745f-41a0-98c3-b8037444ea36"
      },
      "execution_count": 6,
      "outputs": [
        {
          "output_type": "stream",
          "name": "stdout",
          "text": [
            "4\n",
            "4.0\n",
            "Sally\n"
          ]
        }
      ]
    },
    {
      "cell_type": "code",
      "source": [
        "a =\"sally\"\n",
        "print(type(a))\n",
        "print(type(b))\n"
      ],
      "metadata": {
        "colab": {
          "base_uri": "https://localhost:8080/"
        },
        "id": "vW1-IjkfdKoI",
        "outputId": "bc49b161-f447-437a-c638-29c457a76e5e"
      },
      "execution_count": 7,
      "outputs": [
        {
          "output_type": "stream",
          "name": "stdout",
          "text": [
            "<class 'str'>\n",
            "<class 'float'>\n"
          ]
        }
      ]
    },
    {
      "cell_type": "markdown",
      "source": [
        "Double or single quotes"
      ],
      "metadata": {
        "id": "m1SfqjEud3-j"
      }
    },
    {
      "cell_type": "code",
      "source": [
        "Y =\"ana\"\n",
        "y =\"Jhon\"\n",
        "\n",
        "print(y)\n",
        "print(Y)"
      ],
      "metadata": {
        "colab": {
          "base_uri": "https://localhost:8080/"
        },
        "id": "OBQktyQFd8ED",
        "outputId": "59d65999-e0e2-4c78-b614-85dcf264033f"
      },
      "execution_count": 15,
      "outputs": [
        {
          "output_type": "stream",
          "name": "stdout",
          "text": [
            "Jhon\n",
            "ana\n"
          ]
        }
      ]
    },
    {
      "cell_type": "code",
      "source": [
        "y =\"maria\"\n",
        "print(a)"
      ],
      "metadata": {
        "colab": {
          "base_uri": "https://localhost:8080/"
        },
        "id": "LKWCrFoteiqk",
        "outputId": "d2b071ba-2b73-4efe-ade1-e2f747caad6f"
      },
      "execution_count": 18,
      "outputs": [
        {
          "output_type": "stream",
          "name": "stdout",
          "text": [
            "sally\n"
          ]
        }
      ]
    },
    {
      "cell_type": "code",
      "source": [
        "print(a)"
      ],
      "metadata": {
        "colab": {
          "base_uri": "https://localhost:8080/"
        },
        "id": "bG2HzSqpewI1",
        "outputId": "7ab1aafa-e536-42d8-cf24-d9ca3810034a"
      },
      "execution_count": 22,
      "outputs": [
        {
          "output_type": "stream",
          "name": "stdout",
          "text": [
            "sally\n"
          ]
        }
      ]
    },
    {
      "cell_type": "code",
      "source": [
        "#concatenation\n",
        "x = 'python is '\n",
        "y = 'enjoying '\n",
        "print(x +y) \n",
        "print(y+x)"
      ],
      "metadata": {
        "colab": {
          "base_uri": "https://localhost:8080/"
        },
        "id": "uKmEfycwfBXd",
        "outputId": "a9847d7e-be3c-4515-8fea-c66d4af01b92"
      },
      "execution_count": 34,
      "outputs": [
        {
          "output_type": "stream",
          "name": "stdout",
          "text": [
            "python is enjoying \n",
            "enjoying python is \n"
          ]
        }
      ]
    }
  ]
}